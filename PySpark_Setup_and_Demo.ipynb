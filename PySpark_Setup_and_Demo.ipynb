{
  "nbformat": 4,
  "nbformat_minor": 0,
  "metadata": {
    "colab": {
      "provenance": [],
      "toc_visible": true
    },
    "kernelspec": {
      "name": "python3",
      "display_name": "Python 3"
    },
    "language_info": {
      "name": "python"
    }
  },
  "cells": [
    {
      "cell_type": "markdown",
      "source": [
        "# I. Setting up PySpark on Colab\n",
        "\n",
        "Links I referenced:\n",
        "\n",
        "*   https://medium.com/grabngoinfo/install-pyspark-3-on-google-colab-the-easy-way-577ec4a2bcd8\n",
        "*   https://towardsdatascience.com/pyspark-on-google-colab-101-d31830b238be\n",
        "\n"
      ],
      "metadata": {
        "id": "9VEKS1KaaoGu"
      }
    },
    {
      "cell_type": "markdown",
      "source": [
        "### 1 &nbsp; Download Java since Spark is written in Scala and requires Java Virtual Machine (JVM)"
      ],
      "metadata": {
        "id": "Md6G8C6qeIWy"
      }
    },
    {
      "cell_type": "code",
      "source": [
        "!apt-get install openjdk-8-jdk-headless -qq > /dev/null"
      ],
      "metadata": {
        "id": "xK3SHNU_bdT3"
      },
      "execution_count": 10,
      "outputs": []
    },
    {
      "cell_type": "markdown",
      "source": [
        "###2 &nbsp;Download and upzip **Apache Spark** from https://spark.apache.org/downloads.html"
      ],
      "metadata": {
        "id": "l8gN8nBQeXxG"
      }
    },
    {
      "cell_type": "code",
      "source": [
        "!wget -q https://dlcdn.apache.org/spark/spark-3.3.1/spark-3.3.1-bin-hadoop3.tgz\n",
        "!tar xf spark-3.3.1-bin-hadoop3.tgz"
      ],
      "metadata": {
        "id": "atT6c5PrckO5"
      },
      "execution_count": 15,
      "outputs": []
    },
    {
      "cell_type": "markdown",
      "source": [
        "###3 &nbsp; Setting up the environment for Spark"
      ],
      "metadata": {
        "id": "BW-8bFDqfxTB"
      }
    },
    {
      "cell_type": "code",
      "source": [
        "import os\n",
        "os.environ[\"JAVA_HOME\"] = \"/usr/lib/jvm/java-8-openjdk-amd64\"\n",
        "os.environ[\"SPARK_HOME\"] = '/content/spark-3.3.1-bin-hadoop3'"
      ],
      "metadata": {
        "id": "ylaXB3Jdf6oX"
      },
      "execution_count": 16,
      "outputs": []
    },
    {
      "cell_type": "markdown",
      "source": [
        "###4 &nbsp;Finding Spark"
      ],
      "metadata": {
        "id": "IccQI1I3gCO7"
      }
    },
    {
      "cell_type": "code",
      "source": [
        "!pip install -q findspark\n",
        "import findspark\n",
        "findspark.init()\n",
        "findspark.find()"
      ],
      "metadata": {
        "colab": {
          "base_uri": "https://localhost:8080/",
          "height": 36
        },
        "id": "gixTxZMmgGLX",
        "outputId": "b3e01022-9314-423c-c36b-f317fd11a84a"
      },
      "execution_count": 17,
      "outputs": [
        {
          "output_type": "execute_result",
          "data": {
            "text/plain": [
              "'/content/spark-3.3.1-bin-hadoop3'"
            ],
            "application/vnd.google.colaboratory.intrinsic+json": {
              "type": "string"
            }
          },
          "metadata": {},
          "execution_count": 17
        }
      ]
    },
    {
      "cell_type": "markdown",
      "source": [
        "###5 nbsp; Create and check a Spark session"
      ],
      "metadata": {
        "id": "pLeG3kgrgQO0"
      }
    },
    {
      "cell_type": "code",
      "source": [
        "# Import SparkSession\n",
        "from pyspark.sql import SparkSession\n",
        "# Create a Spark Session\n",
        "spark = SparkSession.builder.master(\"local[*]\").getOrCreate()\n",
        "# Check Spark Session Information\n",
        "spark"
      ],
      "metadata": {
        "colab": {
          "base_uri": "https://localhost:8080/",
          "height": 219
        },
        "id": "EJgVZY7ChlM_",
        "outputId": "b91a637f-bffa-4680-a0e2-9356fba7da09"
      },
      "execution_count": 18,
      "outputs": [
        {
          "output_type": "execute_result",
          "data": {
            "text/plain": [
              "<pyspark.sql.session.SparkSession at 0x7f2a7be06cd0>"
            ],
            "text/html": [
              "\n",
              "            <div>\n",
              "                <p><b>SparkSession - in-memory</b></p>\n",
              "                \n",
              "        <div>\n",
              "            <p><b>SparkContext</b></p>\n",
              "\n",
              "            <p><a href=\"http://867ef13cbb63:4040\">Spark UI</a></p>\n",
              "\n",
              "            <dl>\n",
              "              <dt>Version</dt>\n",
              "                <dd><code>v3.3.1</code></dd>\n",
              "              <dt>Master</dt>\n",
              "                <dd><code>local[*]</code></dd>\n",
              "              <dt>AppName</dt>\n",
              "                <dd><code>pyspark-shell</code></dd>\n",
              "            </dl>\n",
              "        </div>\n",
              "        \n",
              "            </div>\n",
              "        "
            ]
          },
          "metadata": {},
          "execution_count": 18
        }
      ]
    },
    {
      "cell_type": "markdown",
      "source": [
        "# II. Sample EDA with Spark"
      ],
      "metadata": {
        "id": "4uwWbl1XiAoH"
      }
    },
    {
      "cell_type": "code",
      "source": [
        "!wget --continue https://raw.githubusercontent.com/GarvitArya/pyspark-demo/main/sample_books.json -O /tmp/sample_books.json"
      ],
      "metadata": {
        "colab": {
          "base_uri": "https://localhost:8080/"
        },
        "id": "BvQCSC_RiD2B",
        "outputId": "421fd165-b338-443c-81e5-7bb708175607"
      },
      "execution_count": 22,
      "outputs": [
        {
          "output_type": "stream",
          "name": "stdout",
          "text": [
            "--2022-11-28 23:17:51--  https://raw.githubusercontent.com/GarvitArya/pyspark-demo/main/sample_books.json\n",
            "Resolving raw.githubusercontent.com (raw.githubusercontent.com)... 185.199.108.133, 185.199.109.133, 185.199.110.133, ...\n",
            "Connecting to raw.githubusercontent.com (raw.githubusercontent.com)|185.199.108.133|:443... connected.\n",
            "HTTP request sent, awaiting response... 200 OK\n",
            "Length: 1565 (1.5K) [text/plain]\n",
            "Saving to: ‘/tmp/sample_books.json’\n",
            "\n",
            "\r/tmp/sample_books.j   0%[                    ]       0  --.-KB/s               \r/tmp/sample_books.j 100%[===================>]   1.53K  --.-KB/s    in 0s      \n",
            "\n",
            "2022-11-28 23:17:51 (14.2 MB/s) - ‘/tmp/sample_books.json’ saved [1565/1565]\n",
            "\n"
          ]
        }
      ]
    },
    {
      "cell_type": "code",
      "execution_count": 23,
      "metadata": {
        "id": "zHOjCfaFaXBW"
      },
      "outputs": [],
      "source": [
        "sample_books = spark.read.json(\"/tmp/sample_books.json\")"
      ]
    },
    {
      "cell_type": "code",
      "source": [
        "sample_books.printSchema()"
      ],
      "metadata": {
        "colab": {
          "base_uri": "https://localhost:8080/"
        },
        "id": "3soLh95Ha2_F",
        "outputId": "0d12c7e8-ef2a-465e-e1de-3b29ae5ff514"
      },
      "execution_count": 24,
      "outputs": [
        {
          "output_type": "stream",
          "name": "stdout",
          "text": [
            "root\n",
            " |-- author: string (nullable = true)\n",
            " |-- edition: string (nullable = true)\n",
            " |-- price: double (nullable = true)\n",
            " |-- title: string (nullable = true)\n",
            " |-- year_written: long (nullable = true)\n",
            "\n"
          ]
        }
      ]
    },
    {
      "cell_type": "code",
      "source": [
        "sample_books.show(4)"
      ],
      "metadata": {
        "colab": {
          "base_uri": "https://localhost:8080/"
        },
        "id": "PWavlj1sa6tI",
        "outputId": "ffe57ad5-306a-488c-d5f7-2677eddfb159"
      },
      "execution_count": 25,
      "outputs": [
        {
          "output_type": "stream",
          "name": "stdout",
          "text": [
            "+---------------+--------------+-----+----------------+------------+\n",
            "|         author|       edition|price|           title|year_written|\n",
            "+---------------+--------------+-----+----------------+------------+\n",
            "|   Austen, Jane|       Penguin| 18.2|Northanger Abbey|        1814|\n",
            "|   Tolstoy, Leo|       Penguin| 12.7|   War and Peace|        1865|\n",
            "|   Tolstoy, Leo|       Penguin| 13.5|   Anna Karenina|        1875|\n",
            "|Woolf, Virginia|Harcourt Brace| 25.0|   Mrs. Dalloway|        1925|\n",
            "+---------------+--------------+-----+----------------+------------+\n",
            "only showing top 4 rows\n",
            "\n"
          ]
        }
      ]
    },
    {
      "cell_type": "code",
      "source": [
        "sample_books.count()"
      ],
      "metadata": {
        "colab": {
          "base_uri": "https://localhost:8080/"
        },
        "id": "lY1h-1kqiZCR",
        "outputId": "25a004cf-e18b-4842-c33a-2bf0b56d35da"
      },
      "execution_count": 28,
      "outputs": [
        {
          "output_type": "execute_result",
          "data": {
            "text/plain": [
              "13"
            ]
          },
          "metadata": {},
          "execution_count": 28
        }
      ]
    },
    {
      "cell_type": "markdown",
      "source": [
        "### Select books with `price > 17` SQL style"
      ],
      "metadata": {
        "id": "OuUF4whJjDhJ"
      }
    },
    {
      "cell_type": "code",
      "source": [
        "sample_books_over_17 = sample_books.filter(\"price >= 17\")"
      ],
      "metadata": {
        "id": "tdK0YsO1iqQo"
      },
      "execution_count": 32,
      "outputs": []
    },
    {
      "cell_type": "code",
      "source": [
        "sample_books_over_17.show(100)"
      ],
      "metadata": {
        "colab": {
          "base_uri": "https://localhost:8080/"
        },
        "id": "PyFb6FixjBfj",
        "outputId": "77f30998-0018-457e-d06f-e8f565b69dae"
      },
      "execution_count": 33,
      "outputs": [
        {
          "output_type": "stream",
          "name": "stdout",
          "text": [
            "+---------------+--------------+-----+-------------------+------------+\n",
            "|         author|       edition|price|              title|year_written|\n",
            "+---------------+--------------+-----+-------------------+------------+\n",
            "|   Austen, Jane|       Penguin| 18.2|   Northanger Abbey|        1814|\n",
            "|Woolf, Virginia|Harcourt Brace| 25.0|      Mrs. Dalloway|        1925|\n",
            "|Woolf, Virginia|       Penguin| 29.0|A Room of One's Own|        1922|\n",
            "|  Rowling, J.K.|Harcourt Brace|19.95|       Harry Potter|        2000|\n",
            "|  Tolkien, J.R.|       Penguin|27.45|  Lord of the Rings|        1937|\n",
            "+---------------+--------------+-----+-------------------+------------+\n",
            "\n"
          ]
        }
      ]
    },
    {
      "cell_type": "markdown",
      "source": [
        "### Use aggregating function in PySpark"
      ],
      "metadata": {
        "id": "YVlvi6wnjnwb"
      }
    },
    {
      "cell_type": "code",
      "source": [
        "from pyspark.sql.functions import avg"
      ],
      "metadata": {
        "id": "NwRhu11RjseH"
      },
      "execution_count": 35,
      "outputs": []
    },
    {
      "cell_type": "code",
      "source": [
        "avg_price = sample_books.agg(avg(\"price\")).collect()[0][0]"
      ],
      "metadata": {
        "id": "OwUh0ZNmjysS"
      },
      "execution_count": 42,
      "outputs": []
    },
    {
      "cell_type": "code",
      "source": [
        "sample_books_above_avg_price = sample_books.filter(sample_books.price > avg_price)\n",
        "sample_books_above_avg_price.show()"
      ],
      "metadata": {
        "colab": {
          "base_uri": "https://localhost:8080/"
        },
        "id": "2p0uPuE3j5SW",
        "outputId": "4b9ecfac-0629-4710-e314-cc706590d1c3"
      },
      "execution_count": 45,
      "outputs": [
        {
          "output_type": "stream",
          "name": "stdout",
          "text": [
            "+---------------+--------------+-----+-------------------+------------+\n",
            "|         author|       edition|price|              title|year_written|\n",
            "+---------------+--------------+-----+-------------------+------------+\n",
            "|   Austen, Jane|       Penguin| 18.2|   Northanger Abbey|        1814|\n",
            "|Woolf, Virginia|Harcourt Brace| 25.0|      Mrs. Dalloway|        1925|\n",
            "|Woolf, Virginia|       Penguin| 29.0|A Room of One's Own|        1922|\n",
            "|  Rowling, J.K.|Harcourt Brace|19.95|       Harry Potter|        2000|\n",
            "|  Tolkien, J.R.|       Penguin|27.45|  Lord of the Rings|        1937|\n",
            "+---------------+--------------+-----+-------------------+------------+\n",
            "\n"
          ]
        }
      ]
    }
  ]
}